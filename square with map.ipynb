{
 "cells": [
  {
   "cell_type": "code",
   "execution_count": 2,
   "id": "af6e09b1",
   "metadata": {},
   "outputs": [
    {
     "name": "stdout",
     "output_type": "stream",
     "text": [
      "4 5 2 9\n",
      "given list is : [4, 5, 2, 9]\n",
      "Square  the elements of the list are :  [16, 25, 4, 81]\n"
     ]
    }
   ],
   "source": [
    "#Write a Python program to square the elements of a list using map() function.\n",
    "\n",
    "given_list = list (map(int,input().split()))\n",
    "print (\"given list is :\", given_list)\n",
    "result = map (lambda x : x*x , given_list)\n",
    "print (\"Square  the elements of the list are : \",list (result))\n"
   ]
  },
  {
   "cell_type": "code",
   "execution_count": 5,
   "id": "ff21386e",
   "metadata": {},
   "outputs": [
    {
     "name": "stdout",
     "output_type": "stream",
     "text": [
      "given list is : [4, 5, 2, 9]\n",
      "Square the elements of the list are :  [16, 25, 4, 81]\n"
     ]
    }
   ],
   "source": [
    "#without input\n",
    "given_List=[4, 5, 2, 9]\n",
    "print (\"given list is :\",given_List)\n",
    "result = map (lambda x : x*x , given_list)\n",
    "print (\"Square the elements of the list are : \",list (result))"
   ]
  },
  {
   "cell_type": "code",
   "execution_count": null,
   "id": "6409d0b0",
   "metadata": {},
   "outputs": [],
   "source": []
  }
 ],
 "metadata": {
  "kernelspec": {
   "display_name": "Python 3 (ipykernel)",
   "language": "python",
   "name": "python3"
  },
  "language_info": {
   "codemirror_mode": {
    "name": "ipython",
    "version": 3
   },
   "file_extension": ".py",
   "mimetype": "text/x-python",
   "name": "python",
   "nbconvert_exporter": "python",
   "pygments_lexer": "ipython3",
   "version": "3.9.12"
  }
 },
 "nbformat": 4,
 "nbformat_minor": 5
}
