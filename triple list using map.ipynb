{
 "cells": [
  {
   "cell_type": "code",
   "execution_count": 55,
   "id": "3bd5b596",
   "metadata": {},
   "outputs": [
    {
     "name": "stdout",
     "output_type": "stream",
     "text": [
      "1 2 3 4 5 6 7\n",
      "[3, 6, 9, 12, 15, 18, 21]\n"
     ]
    }
   ],
   "source": [
    "#Write a Python program to triple all numbers of a given list of integers. Use Python map.\n",
    "given_list = map(int,input().split())\n",
    "result = map (lambda x : x+x+x , given_list)\n",
    "print (list(result))"
   ]
  },
  {
   "cell_type": "code",
   "execution_count": 56,
   "id": "7a760e0f",
   "metadata": {},
   "outputs": [
    {
     "name": "stdout",
     "output_type": "stream",
     "text": [
      "our list is :  [1, 2, 3, 4, 5, 6, 7]\n",
      "Triple of list numbers are :\n",
      "[3, 6, 9, 12, 15, 18, 21]\n"
     ]
    }
   ],
   "source": [
    "#without input code\n",
    "given_list = [1, 2, 3, 4, 5, 6, 7]\n",
    "print (\"our list is : \",given_list)\n",
    "result = map (lambda x : x + x + x , given_list)\n",
    "print (\"Triple of list numbers are :\")\n",
    "print (list(result))"
   ]
  },
  {
   "cell_type": "code",
   "execution_count": null,
   "id": "57a3538c",
   "metadata": {},
   "outputs": [],
   "source": []
  }
 ],
 "metadata": {
  "kernelspec": {
   "display_name": "Python 3 (ipykernel)",
   "language": "python",
   "name": "python3"
  },
  "language_info": {
   "codemirror_mode": {
    "name": "ipython",
    "version": 3
   },
   "file_extension": ".py",
   "mimetype": "text/x-python",
   "name": "python",
   "nbconvert_exporter": "python",
   "pygments_lexer": "ipython3",
   "version": "3.9.12"
  }
 },
 "nbformat": 4,
 "nbformat_minor": 5
}
